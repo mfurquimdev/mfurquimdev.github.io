{
 "cells": [
  {
   "cell_type": "code",
   "execution_count": 1,
   "id": "3b0abaad-9d6a-454c-ae6b-233a307d5741",
   "metadata": {},
   "outputs": [
    {
     "data": {
      "text/html": [
       "<pre style=\"white-space:pre;overflow-x:auto;line-height:normal;font-family:Menlo,'DejaVu Sans Mono',consolas,'Courier New',monospace\">Manim Community <span style=\"color: #008000; text-decoration-color: #008000\">v0.17.3</span>\n",
       "\n",
       "</pre>\n"
      ],
      "text/plain": [
       "Manim Community \u001b[32mv0.\u001b[0m\u001b[32m17.3\u001b[0m\n",
       "\n"
      ]
     },
     "metadata": {},
     "output_type": "display_data"
    }
   ],
   "source": [
    "from manim import *\n"
   ]
  },
  {
   "cell_type": "code",
   "execution_count": 79,
   "id": "42ea43ca-4903-487a-bbc3-3479630caacd",
   "metadata": {
    "tags": []
   },
   "outputs": [],
   "source": [
    "# Polar Night\n",
    "nord_darkest_black = rgb_to_color(hex_to_rgb(\"#2E3440\"))\n",
    "nord_dark_black = rgb_to_color(hex_to_rgb(\"#3B4252\"))\n",
    "nord_black = rgb_to_color(hex_to_rgb(\"#434C5E\"))\n",
    "nord_light_black = rgb_to_color(hex_to_rgb(\"#4C566A\"))\n",
    "nord_lightest_black = rgb_to_color(hex_to_rgb(\"#4C566A\"))\n",
    "\n",
    "# Snow Storm\n",
    "nord_dark_white = rgb_to_color(hex_to_rgb(\"#D8DEE9\"))\n",
    "nord_white = rgb_to_color(hex_to_rgb(\"#E5E9F0\"))\n",
    "nord_light_white = rgb_to_color(hex_to_rgb(\"#ECEFF4\"))\n",
    "\n",
    "# Frost\n",
    "nord_turquoise = rgb_to_color(hex_to_rgb(\"#8FBCBB\"))\n",
    "nord_cyan = rgb_to_color(hex_to_rgb(\"#88C0D0\"))\n",
    "nord_blue = rgb_to_color(hex_to_rgb(\"#81A1C1\"))\n",
    "nord_dark_blue = rgb_to_color(hex_to_rgb(\"#5E81AC\"))\n",
    "\n",
    "# Aurora\n",
    "nord_red = rgb_to_color(hex_to_rgb(\"#BF616A\"))\n",
    "nord_orange = rgb_to_color(hex_to_rgb(\"#D08770\"))\n",
    "nord_yellow = rgb_to_color(hex_to_rgb(\"#EBCB8B\"))\n",
    "nord_green = rgb_to_color(hex_to_rgb(\"#A3BE8C\"))\n",
    "nord_purple = rgb_to_color(hex_to_rgb(\"#B48EAD\"))\n"
   ]
  },
  {
   "cell_type": "code",
   "execution_count": 3,
   "id": "c7f761fd-99b4-444a-9384-41117c598587",
   "metadata": {
    "tags": []
   },
   "outputs": [],
   "source": [
    "config.background_color = nord_darkest_black\n",
    "config.media_width = \"75%\"\n",
    "config.verbosity = \"WARNING\"\n",
    "config.frame_y_radius = 4\n",
    "config.pixel_height = 1080  #  1080 is default\n",
    "config.pixel_width = 1080 #  1920 is default\n",
    "config.resolution = (1080,1080)"
   ]
  },
  {
   "cell_type": "code",
   "execution_count": 4,
   "id": "18e8f2f0-cfc0-47a2-9c92-1fcea508b362",
   "metadata": {
    "tags": []
   },
   "outputs": [
    {
     "data": {
      "image/png": "[encoded data removed]",
      "text/plain": [
       "<IPython.core.display.Image object>"
      ]
     },
     "metadata": {},
     "output_type": "display_data"
    }
   ],
   "source": [
    "%%manim ShowScreenResolution\n",
    "\n",
    "class ShowScreenResolution(Scene):\n",
    "    def construct(self):\n",
    "        \n",
    "\n",
    "        pixel_height = config[\"pixel_height\"]  #  1080 is default\n",
    "        pixel_width = config[\"pixel_width\"]  # 1920 is default\n",
    "        frame_width = pixel_width\n",
    "        frame_height = pixel_height\n",
    "        \n",
    "\n",
    "        self.add(Dot())\n",
    "        d1 = Line(frame_width * LEFT / 2, frame_width * RIGHT / 2).to_edge(DOWN)\n",
    "        self.add(d1)\n",
    "        self.add(Text(str(pixel_width)).next_to(d1, UP))\n",
    "        d2 = Line(frame_height * UP / 2, frame_height * DOWN / 2).to_edge(LEFT)\n",
    "        self.add(d2)\n",
    "        self.add(Text(str(pixel_height)).next_to(d2, RIGHT))"
   ]
  },
  {
   "cell_type": "code",
   "execution_count": 125,
   "id": "ab6a899b-e7f1-4327-bdb8-285dde59d742",
   "metadata": {
    "tags": []
   },
   "outputs": [
    {
     "name": "stderr",
     "output_type": "stream",
     "text": [
      "                                                                                                                                                                                   \r"
     ]
    },
    {
     "data": {
      "text/html": [
       "<video src=\"media/jupyter/CreateCircle@2023-05-06@17-34-09.mp4\" controls autoplay loop style=\"max-width: 75%;\"  >\n",
       "      Your browser does not support the <code>video</code> element.\n",
       "    </video>"
      ],
      "text/plain": [
       "<IPython.core.display.Video object>"
      ]
     },
     "metadata": {},
     "output_type": "display_data"
    }
   ],
   "source": [
    "%%manim CreateCircle\n",
    "\n",
    "class CreateCircle(Scene):\n",
    "    def construct(self):\n",
    "        \n",
    "        def get_pos(vertical, horizontal):\n",
    "            return horizontal*RIGHT+vertical*DOWN+LEFT*3.5+UP*3.5\n",
    "\n",
    "            \n",
    "        def f_blocks(color=nord_dark_white):\n",
    "            pairs = [\n",
    "                (0,6),\n",
    "                (1,5),\n",
    "                (2,5),\n",
    "                (3,5),\n",
    "                (4,5),\n",
    "                (5,4),\n",
    "                (2,6),\n",
    "            ]\n",
    "            return [Square(stroke_width=1,side_length=1.0, color=color).set_fill(color, opacity=1).shift(get_pos(v,h)) for v,h in pairs]\n",
    "        \n",
    "        def m_blocks(color=nord_lightest_black):\n",
    "            pairs = [\n",
    "                (1,0),\n",
    "                (2,1),\n",
    "                (3,1),\n",
    "                (4,1),\n",
    "                (5,1),\n",
    "                (2,2),\n",
    "                (3,3),\n",
    "                (2,4),\n",
    "                (3,7),\n",
    "                (4,7),\n",
    "                (5,7),\n",
    "            ]\n",
    "            return [Square(stroke_width=1,side_length=1.0, color=color).set_fill(color, opacity=1).shift(get_pos(v,h)) for v,h in pairs]\n",
    "\n",
    "        m_block_list = m_blocks()\n",
    "        m_square = Square(color=nord_lightest_black).set_fill(nord_lightest_black, opacity=1)\n",
    "        self.play(DrawBorderThenFill(m_square))\n",
    "\n",
    "        def reduce_speed(speed=1.0):\n",
    "            return max(speed-0.1, 0.3819660112501051)\n",
    "            \n",
    "        speed = 1\n",
    "        for m in m_block_list:\n",
    "            self.play(Transform(m_square,m),run_time=speed)\n",
    "            self.add(m)\n",
    "            m_square = m\n",
    "            speed = reduce_speed(speed)\n",
    "\n",
    "\n",
    "        f_block_list = f_blocks()\n",
    "        f_square = Square(color=nord_dark_white).set_fill(nord_dark_white, opacity=1)\n",
    "        self.play(DrawBorderThenFill(f_square))\n",
    "\n",
    "        speed = 1\n",
    "        for f in f_block_list:\n",
    "            self.play(Transform(f_square,f),run_time=speed)\n",
    "            self.add(f)\n",
    "            m_square = f\n",
    "            speed = reduce_speed(speed)\n",
    "\n",
    "        self.wait()\n",
    "        return\n",
    "#        for obj in lst:\n",
    "#            self.add(obj)\n",
    "#        self.play(\n",
    "#            DrawBorderThenFill(m_square, run_time=1.5),\n",
    "#            DrawBorderThenFill(m_square, run_time=1.5),\n",
    "#            DrawBorderThenFill(f_square, run_time=1.5),\n",
    "#        )\n",
    "        \n",
    "        \n",
    "        "
   ]
  },
  {
   "cell_type": "code",
   "execution_count": 12,
   "id": "a818ab0c-1c4a-4618-bdfd-874cd0255c7f",
   "metadata": {
    "collapsed": true,
    "jupyter": {
     "outputs_hidden": true
    },
    "tags": []
   },
   "outputs": [
    {
     "name": "stderr",
     "output_type": "stream",
     "text": [
      "                                                                                                                                                                                    \r"
     ]
    },
    {
     "data": {
      "text/html": [
       "<video src=\"media/jupyter/CircleToSquare@2023-05-05@16-39-28.mp4\" controls autoplay loop style=\"max-width: 75%;\"  >\n",
       "      Your browser does not support the <code>video</code> element.\n",
       "    </video>"
      ],
      "text/plain": [
       "<IPython.core.display.Video object>"
      ]
     },
     "metadata": {},
     "output_type": "display_data"
    }
   ],
   "source": [
    "%%manim CircleToSquare\n",
    "\n",
    "class CircleToSquare(Scene):\n",
    "    def construct(self):\n",
    "        blue_circle = Circle(color=BLUE, fill_opacity=0.5)\n",
    "        green_square = Square(color=GREEN, fill_opacity=0.8)\n",
    "        self.play(Create(blue_circle))\n",
    "        self.wait()\n",
    "        \n",
    "        self.play(Transform(blue_circle, green_square))\n",
    "        self.wait()"
   ]
  },
  {
   "cell_type": "code",
   "execution_count": 13,
   "id": "a7480f83-f85e-49f4-adce-02209615ef42",
   "metadata": {
    "collapsed": true,
    "jupyter": {
     "outputs_hidden": true,
     "source_hidden": true
    },
    "tags": []
   },
   "outputs": [
    {
     "name": "stderr",
     "output_type": "stream",
     "text": [
      "                                                                                                                                                                                    \r"
     ]
    },
    {
     "data": {
      "text/html": [
       "<video src=\"media/jupyter/SquareAndCircle@2023-05-05@16-39-29.mp4\" controls autoplay loop style=\"max-width: 75%;\"  >\n",
       "      Your browser does not support the <code>video</code> element.\n",
       "    </video>"
      ],
      "text/plain": [
       "<IPython.core.display.Video object>"
      ]
     },
     "metadata": {},
     "output_type": "display_data"
    }
   ],
   "source": [
    "%%manim SquareAndCircle\n",
    "\n",
    "class SquareAndCircle(Scene):\n",
    "    def construct(self):\n",
    "        circle = Circle()  # create a circle\n",
    "        circle.set_fill(PINK, opacity=0.5)  # set the color and transparency\n",
    "\n",
    "        square = Square()  # create a square\n",
    "        square.set_fill(BLUE, opacity=0.5)  # set the color and transparency\n",
    "\n",
    "        square.next_to(circle, RIGHT, buff=0.5)  # set the position\n",
    "        self.play(Create(circle), Create(square))  # show the shapes on screen"
   ]
  },
  {
   "cell_type": "code",
   "execution_count": 14,
   "id": "b256c6c5-45e9-45f5-912c-a2bb251db893",
   "metadata": {
    "collapsed": true,
    "jupyter": {
     "outputs_hidden": true
    },
    "tags": []
   },
   "outputs": [
    {
     "name": "stderr",
     "output_type": "stream",
     "text": [
      "                                                                                                                                                                                    \r"
     ]
    },
    {
     "data": {
      "text/html": [
       "<video src=\"media/jupyter/DifferentRotations@2023-05-05@16-39-30.mp4\" controls autoplay loop style=\"max-width: 75%;\"  >\n",
       "      Your browser does not support the <code>video</code> element.\n",
       "    </video>"
      ],
      "text/plain": [
       "<IPython.core.display.Video object>"
      ]
     },
     "metadata": {},
     "output_type": "display_data"
    }
   ],
   "source": [
    "%%manim DifferentRotations\n",
    "\n",
    "class DifferentRotations(Scene):\n",
    "    def construct(self):\n",
    "        left_square = Square(color=BLUE, fill_opacity=0.7).shift(2 * LEFT)\n",
    "        right_square = Square(color=GREEN, fill_opacity=0.7).shift(2 * RIGHT)\n",
    "        self.play(\n",
    "            left_square.animate.rotate(PI), Rotate(right_square, angle=PI), run_time=2\n",
    "        )\n",
    "        self.wait()"
   ]
  },
  {
   "cell_type": "code",
   "execution_count": 15,
   "id": "7ad402aa-7316-46d3-8c28-57d6517c2910",
   "metadata": {
    "collapsed": true,
    "jupyter": {
     "outputs_hidden": true
    },
    "tags": []
   },
   "outputs": [
    {
     "name": "stderr",
     "output_type": "stream",
     "text": [
      "                                                                                                                                                                                    \r"
     ]
    },
    {
     "data": {
      "text/html": [
       "<video src=\"media/jupyter/BraceAnnotation@2023-05-05@16-39-37.mp4\" controls autoplay loop style=\"max-width: 75%;\"  >\n",
       "      Your browser does not support the <code>video</code> element.\n",
       "    </video>"
      ],
      "text/plain": [
       "<IPython.core.display.Video object>"
      ]
     },
     "metadata": {},
     "output_type": "display_data"
    }
   ],
   "source": [
    "%%manim BraceAnnotation\n",
    "\n",
    "class BraceAnnotation(Scene):\n",
    "    def construct(self):\n",
    "\n",
    "        decimal = DecimalNumber().to_edge(UP)\n",
    "\n",
    "        dot = Dot([-2, -1, 0], color=nord_dark_white)\n",
    "        dot2 = Dot([2, 1, 0],color=nord_dark_white)\n",
    "        line = Line(dot.get_center(), dot2.get_center()).set_color(nord_orange)\n",
    "#        b1 = Brace(line, color=nord_light_white)\n",
    "#        b1text = b1.get_text(\"Horizontal distance\")\n",
    "#        b2 = Brace(line, direction=line.copy().rotate(PI / 2).get_unit_vector(), color=nord_light_black)\n",
    "#        b2text = b2.get_tex(\"x-x_1\")\n",
    "#        b3 = Brace(line, direction=line.copy().rotate(1.5*PI).get_unit_vector(), color=nord_green)\n",
    "        \n",
    "        b4 = Brace(line, color=nord_orange)\n",
    "        decimal.add_updater(lambda d: d.set_value(b4.height))\n",
    "\n",
    "#        self.add(line, dot, dot2, b1, b2, b1text, b2text, b3, decimal)\n",
    "        self.add(line, dot, dot2, b4, decimal)\n",
    "        \n",
    "        self.play(\n",
    "            Rotate(b4, angle=0.5*PI),\n",
    "            run_time=4\n",
    "        )\n",
    "        \n",
    "        self.wait()"
   ]
  },
  {
   "cell_type": "code",
   "execution_count": 16,
   "id": "5d004bdb-aa86-4cd8-828b-77ce2fb09d34",
   "metadata": {
    "collapsed": true,
    "jupyter": {
     "outputs_hidden": true
    },
    "tags": []
   },
   "outputs": [
    {
     "name": "stderr",
     "output_type": "stream",
     "text": [
      "                                                                                                                                                                                    \r"
     ]
    },
    {
     "data": {
      "text/html": [
       "<video src=\"media/jupyter/HeightExample@2023-05-05@16-39-38.mp4\" controls autoplay loop style=\"max-width: 75%;\"  >\n",
       "      Your browser does not support the <code>video</code> element.\n",
       "    </video>"
      ],
      "text/plain": [
       "<IPython.core.display.Video object>"
      ]
     },
     "metadata": {},
     "output_type": "display_data"
    }
   ],
   "source": [
    "%%manim HeightExample\n",
    "\n",
    "class HeightExample(Scene):\n",
    "    def construct(self):\n",
    "        decimal = DecimalNumber().to_edge(UP)\n",
    "        rect = Rectangle(color=BLUE)\n",
    "        rect_copy = rect.copy().set_stroke(GRAY, opacity=0.5)\n",
    "\n",
    "        decimal.add_updater(lambda d: d.set_value(rect.height))\n",
    "\n",
    "        self.add(rect_copy, rect, decimal)\n",
    "        self.play(rect.animate.set(width=12))\n",
    "        self.wait()"
   ]
  },
  {
   "cell_type": "code",
   "execution_count": 132,
   "id": "07b898d1-33ba-4ba3-bf67-d2c6ca20d0f7",
   "metadata": {},
   "outputs": [
    {
     "name": "stderr",
     "output_type": "stream",
     "text": [
      "                                                                                                                                                                                                                     \r"
     ]
    },
    {
     "data": {
      "text/html": [
       "<video src=\"media/jupyter/CreateCircle@2023-05-06@21-26-39.mp4\" controls autoplay loop style=\"max-width: 75%;\"  >\n",
       "      Your browser does not support the <code>video</code> element.\n",
       "    </video>"
      ],
      "text/plain": [
       "<IPython.core.display.Video object>"
      ]
     },
     "metadata": {},
     "output_type": "display_data"
    }
   ],
   "source": [
    "%%manim CreateCircle\n",
    "\n",
    "class CreateCircle(Scene):\n",
    "    def construct(self):\n",
    "        \n",
    "        def get_pos(vertical, horizontal):\n",
    "            return horizontal*RIGHT+vertical*DOWN+LEFT*3.5+UP*3.5\n",
    "\n",
    "            \n",
    "        def f_blocks(color=nord_dark_white):\n",
    "            pairs = [\n",
    "                (0,6),\n",
    "                (1,5),\n",
    "                (2,5),\n",
    "                (3,5),\n",
    "                (4,5),\n",
    "                (5,4),\n",
    "                (2,6),\n",
    "            ]\n",
    "            return [Square(stroke_width=1,side_length=1.0, color=color).set_fill(color, opacity=1).shift(get_pos(v,h)) for v,h in pairs]\n",
    "        \n",
    "        def m_blocks(color=nord_lightest_black):\n",
    "            pairs = [\n",
    "                (1,0),\n",
    "                (2,1),\n",
    "                (3,1),\n",
    "                (4,1),\n",
    "                (5,1),\n",
    "                (2,2),\n",
    "                (3,3),\n",
    "                (2,4),\n",
    "                (3,7),\n",
    "                (4,7),\n",
    "                (5,7),\n",
    "            ]\n",
    "            return [Square(stroke_width=1,side_length=1.0, color=color).set_fill(color, opacity=1).shift(get_pos(v,h)) for v,h in pairs]\n",
    "\n",
    "        m_block_list = m_blocks()\n",
    "        f_block_list = f_blocks()\n",
    "\n",
    "        m_square = Square(color=nord_lightest_black).set_fill(nord_lightest_black, opacity=1)\n",
    "        f_square = Square(color=nord_dark_white).set_fill(nord_dark_white, opacity=1).next_to(m_square, direction=RIGHT)\n",
    "        self.play(DrawBorderThenFill(m_square), DrawBorderThenFill(f_square))\n",
    "\n",
    "        def reduce_speed(speed=0.7):\n",
    "            return max(speed-0.1, 0.3)\n",
    "            \n",
    "        speed = 0.7\n",
    "        mf_block_list = zip(m_block_list,f_block_list)\n",
    "        rest_m_block_list = m_block_list[len(f_block_list):]\n",
    "        for m,f in mf_block_list:\n",
    "            self.play(Transform(m_square,m),Transform(f_square,f),run_time=speed)\n",
    "            self.add(m,f)\n",
    "            m_square = m\n",
    "            f_square = f\n",
    "            speed = reduce_speed(speed)\n",
    "\n",
    "        for m in rest_m_block_list:\n",
    "            self.play(Transform(m_square,m),run_time=speed)\n",
    "            self.add(m)\n",
    "            m_square = m\n",
    "            speed = reduce_speed(speed)\n",
    "\n",
    "        self.wait()\n"
   ]
  },
  {
   "cell_type": "code",
   "execution_count": null,
   "id": "555d9c1b-d8d8-488b-82e5-39b6c3adeb11",
   "metadata": {},
   "outputs": [],
   "source": []
  }
 ],
 "metadata": {
  "kernelspec": {
   "display_name": "Python 3 (ipykernel)",
   "language": "python",
   "name": "python3"
  },
  "language_info": {
   "codemirror_mode": {
    "name": "ipython",
    "version": 3
   },
   "file_extension": ".py",
   "mimetype": "text/x-python",
   "name": "python",
   "nbconvert_exporter": "python",
   "pygments_lexer": "ipython3",
   "version": "3.8.16"
  }
 },
 "nbformat": 4,
 "nbformat_minor": 5
}
