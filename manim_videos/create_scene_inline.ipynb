{
 "cells": [
  {
   "cell_type": "code",
   "execution_count": 1,
   "id": "3b0abaad-9d6a-454c-ae6b-233a307d5741",
   "metadata": {},
   "outputs": [
    {
     "data": {
      "text/html": [
       "<pre style=\"white-space:pre;overflow-x:auto;line-height:normal;font-family:Menlo,'DejaVu Sans Mono',consolas,'Courier New',monospace\">Manim Community <span style=\"color: #008000; text-decoration-color: #008000\">v0.17.3</span>\n",
       "\n",
       "</pre>\n"
      ],
      "text/plain": [
       "Manim Community \u001b[32mv0.\u001b[0m\u001b[32m17.3\u001b[0m\n",
       "\n"
      ]
     },
     "metadata": {},
     "output_type": "display_data"
    }
   ],
   "source": [
    "from manim import *\n"
   ]
  },
  {
   "cell_type": "code",
   "execution_count": 2,
   "id": "42ea43ca-4903-487a-bbc3-3479630caacd",
   "metadata": {
    "tags": []
   },
   "outputs": [],
   "source": [
    "# Polar Night\n",
    "nord_darkest_black = rgb_to_color(hex_to_rgb(\"#2E3440\"))\n",
    "nord_dark_black = rgb_to_color(hex_to_rgb(\"#3B4252\"))\n",
    "nord_black = rgb_to_color(hex_to_rgb(\"#434C5E\"))\n",
    "nord_light_black = rgb_to_color(hex_to_rgb(\"#4C566A\"))\n",
    "nord_lightest_black = rgb_to_color(hex_to_rgb(\"#4C566A\"))\n",
    "\n",
    "# Snow Storm\n",
    "nord_dark_white = rgb_to_color(hex_to_rgb(\"#D8DEE9\"))\n",
    "nord_white = rgb_to_color(hex_to_rgb(\"#E5E9F0\"))\n",
    "nord_light_white = rgb_to_color(hex_to_rgb(\"#ECEFF4\"))\n",
    "\n",
    "# Frost\n",
    "nord_turquoise = rgb_to_color(hex_to_rgb(\"#8FBCBB\"))\n",
    "nord_cyan = rgb_to_color(hex_to_rgb(\"#88C0D0\"))\n",
    "nord_blue = rgb_to_color(hex_to_rgb(\"#81A1C1\"))\n",
    "nord_dark_blue = rgb_to_color(hex_to_rgb(\"#5E81AC\"))\n",
    "\n",
    "# Aurora\n",
    "nord_red = rgb_to_color(hex_to_rgb(\"#BF616A\"))\n",
    "nord_orange = rgb_to_color(hex_to_rgb(\"#D08770\"))\n",
    "nord_yellow = rgb_to_color(hex_to_rgb(\"#EBCB8B\"))\n",
    "nord_green = rgb_to_color(hex_to_rgb(\"#A3BE8C\"))\n",
    "nord_pink = rgb_to_color(hex_to_rgb(\"#B48EAD\"))\n"
   ]
  },
  {
   "cell_type": "code",
   "execution_count": 3,
   "id": "9adc40d3-d404-42b2-b8c7-b84fb3a44e13",
   "metadata": {
    "tags": []
   },
   "outputs": [],
   "source": [
    "config.background_color = nord_darkest_black\n",
    "config.media_width = \"75%\"\n",
    "config.verbosity = \"WARNING\"\n",
    "config.pixel_height = 1080  #  1080 is default\n",
    "config.pixel_width = 1080 #  1920 is default\n",
    "config.resolution = (1080,1080)\n",
    "config.frame_y_radius = config[\"frame_x_radius\"]\n"
   ]
  },
  {
   "cell_type": "code",
   "execution_count": 4,
   "id": "18e8f2f0-cfc0-47a2-9c92-1fcea508b362",
   "metadata": {
    "tags": []
   },
   "outputs": [
    {
     "data": {
      "image/png": "[encoded data removed]",
      "text/plain": [
       "<IPython.core.display.Image object>"
      ]
     },
     "metadata": {},
     "output_type": "display_data"
    }
   ],
   "source": [
    "%%manim ShowScreenResolution\n",
    "\n",
    "class ShowScreenResolution(Scene):\n",
    "    def construct(self):\n",
    "        \n",
    "\n",
    "        pixel_height = config[\"pixel_height\"]\n",
    "        pixel_width = config[\"pixel_width\"] \n",
    "        \n",
    "        frame_width = pixel_width\n",
    "        frame_height = pixel_height\n",
    "        \n",
    "\n",
    "        self.add(Dot())\n",
    "        d1 = Line(frame_width * LEFT / 2, frame_width * RIGHT / 2).to_edge(DOWN)\n",
    "        self.add(d1)\n",
    "        self.add(Text(str(pixel_width)).next_to(d1, UP))\n",
    "        d2 = Line(frame_height * UP / 2, frame_height * DOWN / 2).to_edge(LEFT)\n",
    "        self.add(d2)\n",
    "        self.add(Text(str(pixel_height)).next_to(d2, RIGHT))"
   ]
  },
  {
   "cell_type": "code",
   "execution_count": 5,
   "id": "04fc2416-fb2b-492e-8fea-61b0535cf0b3",
   "metadata": {
    "tags": []
   },
   "outputs": [
    {
     "name": "stderr",
     "output_type": "stream",
     "text": [
      "                                                                                                                                                                                   \r"
     ]
    },
    {
     "data": {
      "text/html": [
       "<video src=\"media/jupyter/PolygonsInside@2023-05-21@14-25-03.mp4\" controls autoplay loop style=\"max-width: 75%;\"  >\n",
       "      Your browser does not support the <code>video</code> element.\n",
       "    </video>"
      ],
      "text/plain": [
       "<IPython.core.display.Video object>"
      ]
     },
     "metadata": {},
     "output_type": "display_data"
    }
   ],
   "source": [
    "%%manim PolygonsInside\n",
    "\n",
    "class PolygonsInside(Scene):\n",
    "    def construct(self):\n",
    "        shapes = []\n",
    "        shapes.append(Square(color=nord_dark_blue))\n",
    "        shapes.append(Circle(color=nord_green))\n",
    "        shapes.append(Triangle(color=nord_red))\n",
    "        shapes.append(RoundedRectangle(color=nord_pink))\n",
    "        \n",
    "        \n",
    "        for shape in shapes:\n",
    "            self.play(FadeIn(shape, run_time=1.5))\n",
    "            \n",
    "        self.wait()\n",
    "\n",
    "\n",
    "        "
   ]
  },
  {
   "cell_type": "code",
   "execution_count": 6,
   "id": "ab6a899b-e7f1-4327-bdb8-285dde59d742",
   "metadata": {
    "tags": []
   },
   "outputs": [
    {
     "name": "stderr",
     "output_type": "stream",
     "text": [
      "                                                                                                                                                                                   \r"
     ]
    },
    {
     "data": {
      "text/html": [
       "<video src=\"media/jupyter/CreateCircle@2023-05-21@14-25-05.mp4\" controls autoplay loop style=\"max-width: 75%;\"  >\n",
       "      Your browser does not support the <code>video</code> element.\n",
       "    </video>"
      ],
      "text/plain": [
       "<IPython.core.display.Video object>"
      ]
     },
     "metadata": {},
     "output_type": "display_data"
    }
   ],
   "source": [
    "%%manim CreateCircle\n",
    "\n",
    "class CreateCircle(Scene):\n",
    "    def construct(self):\n",
    "        unlagged = Circle(color=nord_red)  # create a circle\n",
    "        unlagged.set_fill(nord_red, opacity=1)  # set the color and transparency\n",
    "\n",
    "        fastest = Circle(color=nord_orange)\n",
    "        fastest.set_fill(nord_orange, opacity=0.75)  # set the color and transparency\n",
    "\n",
    "        circle = Circle(color=nord_yellow)  # create a circle\n",
    "        circle.set_fill(nord_yellow, opacity=0.61)  # set the color and transparency\n",
    "\n",
    "        lagged = Square(color=nord_green)  # create a circle\n",
    "        square = Square(color=nord_pink)  # create a circle\n",
    "        square.set_fill(nord_pink, opacity=0.25)\n",
    "        lagged.set_fill(nord_green, opacity=0.95)  # set the color and transparency\n",
    "\n",
    "\n",
    "        slowest = Triangle(color=nord_blue)\n",
    "        slowest.set_fill(nord_blue, opacity=1)  # set the color and transparency\n",
    "        \n",
    "        fastest.next_to(circle, LEFT, buff=0.5)  # set the position\n",
    "        slowest.next_to(circle, RIGHT, buff=0.5)  # set the position\n",
    "        lagged.next_to(circle, DOWN, buff=0.5)\n",
    "        unlagged.next_to(circle, UP, buff=0.5)\n",
    "        square.next_to(lagged, LEFT, buff=0.5)\n",
    "        \n",
    "        self.play(\n",
    "            DrawBorderThenFill(unlagged, run_time=1.5, lag_ratio=1),\n",
    "            DrawBorderThenFill(lagged, run_time=1.5, lag_ratio=0.1),\n",
    "            DrawBorderThenFill(square, run_time=1.5, lag_ratio=2)\n",
    "        )\n",
    "        self.play(\n",
    "            unlagged.animate.rotate(1.7*PI),\n",
    "            Rotate(lagged, angle=0.25*PI),\n",
    "            run_time=0.5\n",
    "        )\n",
    "        self.play(\n",
    "            square.animate.rotate(PI),\n",
    "            lagged.animate.rotate(0.75*PI),\n",
    "            run_time=0.5\n",
    "        )\n",
    " \n",
    "        self.play(\n",
    "            DrawBorderThenFill(fastest, run_time=1),\n",
    "            DrawBorderThenFill(circle, run_time=1.5),\n",
    "            DrawBorderThenFill(slowest, run_time=2)\n",
    "        )\n",
    "        self.wait()\n",
    "        "
   ]
  },
  {
   "cell_type": "code",
   "execution_count": 7,
   "id": "a818ab0c-1c4a-4618-bdfd-874cd0255c7f",
   "metadata": {
    "tags": []
   },
   "outputs": [
    {
     "name": "stderr",
     "output_type": "stream",
     "text": [
      "                                                                                                                                                                                   \r"
     ]
    },
    {
     "data": {
      "text/html": [
       "<video src=\"media/jupyter/CircleToSquare@2023-05-21@14-25-06.mp4\" controls autoplay loop style=\"max-width: 75%;\"  >\n",
       "      Your browser does not support the <code>video</code> element.\n",
       "    </video>"
      ],
      "text/plain": [
       "<IPython.core.display.Video object>"
      ]
     },
     "metadata": {},
     "output_type": "display_data"
    }
   ],
   "source": [
    "%%manim CircleToSquare\n",
    "\n",
    "class CircleToSquare(Scene):\n",
    "    def construct(self):\n",
    "        blue_circle = Circle(color=BLUE, fill_opacity=0.5)\n",
    "        green_square = Square(color=GREEN, fill_opacity=0.8)\n",
    "        self.play(Create(blue_circle))\n",
    "        self.wait()\n",
    "        \n",
    "        self.play(Transform(blue_circle, green_square))\n",
    "        self.wait()"
   ]
  },
  {
   "cell_type": "code",
   "execution_count": 8,
   "id": "a7480f83-f85e-49f4-adce-02209615ef42",
   "metadata": {
    "tags": []
   },
   "outputs": [
    {
     "name": "stderr",
     "output_type": "stream",
     "text": [
      "                                                                                                                                                                                   \r"
     ]
    },
    {
     "data": {
      "text/html": [
       "<video src=\"media/jupyter/SquareAndCircle@2023-05-21@14-25-06.mp4\" controls autoplay loop style=\"max-width: 75%;\"  >\n",
       "      Your browser does not support the <code>video</code> element.\n",
       "    </video>"
      ],
      "text/plain": [
       "<IPython.core.display.Video object>"
      ]
     },
     "metadata": {},
     "output_type": "display_data"
    }
   ],
   "source": [
    "%%manim SquareAndCircle\n",
    "\n",
    "class SquareAndCircle(Scene):\n",
    "    def construct(self):\n",
    "        circle = Circle()  # create a circle\n",
    "        circle.set_fill(PINK, opacity=0.5)  # set the color and transparency\n",
    "\n",
    "        square = Square()  # create a square\n",
    "        square.set_fill(BLUE, opacity=0.5)  # set the color and transparency\n",
    "\n",
    "        square.next_to(circle, RIGHT, buff=0.5)  # set the position\n",
    "        self.play(Create(circle), Create(square))  # show the shapes on screen"
   ]
  },
  {
   "cell_type": "code",
   "execution_count": 9,
   "id": "b256c6c5-45e9-45f5-912c-a2bb251db893",
   "metadata": {},
   "outputs": [
    {
     "name": "stderr",
     "output_type": "stream",
     "text": [
      "                                                                                                                                                                                   \r"
     ]
    },
    {
     "data": {
      "text/html": [
       "<video src=\"media/jupyter/DifferentRotations@2023-05-21@14-25-07.mp4\" controls autoplay loop style=\"max-width: 75%;\"  >\n",
       "      Your browser does not support the <code>video</code> element.\n",
       "    </video>"
      ],
      "text/plain": [
       "<IPython.core.display.Video object>"
      ]
     },
     "metadata": {},
     "output_type": "display_data"
    }
   ],
   "source": [
    "%%manim DifferentRotations\n",
    "\n",
    "class DifferentRotations(Scene):\n",
    "    def construct(self):\n",
    "        left_square = Square(color=BLUE, fill_opacity=0.7).shift(2 * LEFT)\n",
    "        right_square = Square(color=GREEN, fill_opacity=0.7).shift(2 * RIGHT)\n",
    "        self.play(\n",
    "            left_square.animate.rotate(PI), Rotate(right_square, angle=PI), run_time=2\n",
    "        )\n",
    "        self.wait()"
   ]
  },
  {
   "cell_type": "code",
   "execution_count": 10,
   "id": "7ad402aa-7316-46d3-8c28-57d6517c2910",
   "metadata": {
    "tags": []
   },
   "outputs": [
    {
     "name": "stderr",
     "output_type": "stream",
     "text": [
      "                                                                                                                                                                                   \r"
     ]
    },
    {
     "data": {
      "text/html": [
       "<video src=\"media/jupyter/BraceAnnotation@2023-05-21@14-25-10.mp4\" controls autoplay loop style=\"max-width: 75%;\"  >\n",
       "      Your browser does not support the <code>video</code> element.\n",
       "    </video>"
      ],
      "text/plain": [
       "<IPython.core.display.Video object>"
      ]
     },
     "metadata": {},
     "output_type": "display_data"
    }
   ],
   "source": [
    "%%manim BraceAnnotation\n",
    "\n",
    "class BraceAnnotation(Scene):\n",
    "    def construct(self):\n",
    "\n",
    "        decimal = DecimalNumber().to_edge(UP)\n",
    "\n",
    "        dot = Dot([-2, -1, 0], color=nord_dark_white)\n",
    "        dot2 = Dot([2, 1, 0],color=nord_dark_white)\n",
    "        line = Line(dot.get_center(), dot2.get_center()).set_color(nord_orange)\n",
    "#        b1 = Brace(line, color=nord_light_white)\n",
    "#        b1text = b1.get_text(\"Horizontal distance\")\n",
    "#        b2 = Brace(line, direction=line.copy().rotate(PI / 2).get_unit_vector(), color=nord_light_black)\n",
    "#        b2text = b2.get_tex(\"x-x_1\")\n",
    "#        b3 = Brace(line, direction=line.copy().rotate(1.5*PI).get_unit_vector(), color=nord_green)\n",
    "        \n",
    "        b4 = Brace(line, color=nord_orange)\n",
    "        decimal.add_updater(lambda d: d.set_value(b4.height))\n",
    "\n",
    "#        self.add(line, dot, dot2, b1, b2, b1text, b2text, b3, decimal)\n",
    "        self.add(line, dot, dot2, b4, decimal)\n",
    "        \n",
    "        self.play(\n",
    "            Rotate(b4, angle=0.5*PI),\n",
    "            run_time=4\n",
    "        )\n",
    "        \n",
    "        self.wait()"
   ]
  },
  {
   "cell_type": "code",
   "execution_count": 11,
   "id": "5d004bdb-aa86-4cd8-828b-77ce2fb09d34",
   "metadata": {
    "tags": []
   },
   "outputs": [
    {
     "name": "stderr",
     "output_type": "stream",
     "text": [
      "                                                                                                                                                                                   \r"
     ]
    },
    {
     "data": {
      "text/html": [
       "<video src=\"media/jupyter/HeightExample@2023-05-21@14-25-11.mp4\" controls autoplay loop style=\"max-width: 75%;\"  >\n",
       "      Your browser does not support the <code>video</code> element.\n",
       "    </video>"
      ],
      "text/plain": [
       "<IPython.core.display.Video object>"
      ]
     },
     "metadata": {},
     "output_type": "display_data"
    }
   ],
   "source": [
    "%%manim HeightExample\n",
    "\n",
    "class HeightExample(Scene):\n",
    "    def construct(self):\n",
    "        decimal = DecimalNumber().to_edge(UP)\n",
    "        rect = Rectangle(color=BLUE)\n",
    "        rect_copy = rect.copy().set_stroke(GRAY, opacity=0.5)\n",
    "\n",
    "        decimal.add_updater(lambda d: d.set_value(rect.height))\n",
    "\n",
    "        self.add(rect_copy, rect, decimal)\n",
    "        self.play(rect.animate.set(width=12))\n",
    "        self.wait()"
   ]
  },
  {
   "cell_type": "code",
   "execution_count": null,
   "id": "e78b842b-a5e2-4eea-8c74-6f82411cf3cc",
   "metadata": {},
   "outputs": [],
   "source": []
  }
 ],
 "metadata": {
  "kernelspec": {
   "display_name": "Python 3 (ipykernel)",
   "language": "python",
   "name": "python3"
  },
  "language_info": {
   "codemirror_mode": {
    "name": "ipython",
    "version": 3
   },
   "file_extension": ".py",
   "mimetype": "text/x-python",
   "name": "python",
   "nbconvert_exporter": "python",
   "pygments_lexer": "ipython3",
   "version": "3.8.16"
  }
 },
 "nbformat": 4,
 "nbformat_minor": 5
}
